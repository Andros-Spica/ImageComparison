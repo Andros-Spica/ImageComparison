{
 "metadata": {
  "language_info": {
   "codemirror_mode": {
    "name": "ipython",
    "version": 3
   },
   "file_extension": ".py",
   "mimetype": "text/x-python",
   "name": "python",
   "nbconvert_exporter": "python",
   "pygments_lexer": "ipython3",
   "version": "3.9.0"
  },
  "orig_nbformat": 2,
  "kernelspec": {
   "name": "python390jvsc74a57bd075e5c9302ad4fe6411a111df4cd0e0cea8d8f3d70d80c51a191b3d50d31fdf1c",
   "display_name": "Python 3.9.0 64-bit"
  }
 },
 "nbformat": 4,
 "nbformat_minor": 2,
 "cells": [
  {
   "source": [
    "# Test and walkthrought of `ImageComparison`\n",
    "*By Andreas Angourakis (17/05/2021)*\n",
    "\n",
    "This Jupyter notebook can be run if placed in the root directory of https://github.com/maltaweel/ImageComparison\n",
    "\n",
    "## Running `detect.py` (single batch)"
   ],
   "cell_type": "markdown",
   "metadata": {}
  },
  {
   "cell_type": "code",
   "execution_count": 70,
   "metadata": {},
   "outputs": [
    {
     "output_type": "stream",
     "name": "stdout",
     "text": [
      "0.59375\n0.4609375\n0.5859375\n0.65234375\n0.57421875\n0.68359375\n0.8359375\n0.625\n0.578125\n0.6796875\n0.609375\n0.66796875\n0.59765625\n0.59765625\n0.55859375\n0.6171875\n0.58984375\n0.6796875\n0.6484375\n0.5859375\n0.54296875\n0.63671875\n0.640625\n0.70703125\n0.546875\n0.53515625\n0.64453125\n0.51953125\n0.67578125\n0.68359375\n0.609375\n0.63671875\n0.625\n0.6328125\n0.59375\n0.6484375\n0.71484375\n0.6015625\n0.6953125\n0.65234375\n0.671875\n0.55078125\n0.66015625\n0.5546875\n0.5703125\n0.65234375\n0.55078125\n0.6953125\n0.6640625\n0.7265625\n0.640625\n0.63671875\n0.65234375\n0.70703125\n0.66796875\n0.69140625\n0.6875\n0.5625\n0.65234375\n0.65234375\n0.63671875\n0.6328125\n0.55859375\n0.6875\n0.58984375\n0.62109375\n0.7421875\n0.6328125\n0.63671875\n0.58984375\n0.58984375\n0.671875\n0.625\n0.5859375\n0.53125\n0.58203125\n0.671875\n0.68359375\n0.70703125\n0.71484375\n0.703125\n0.69921875\n0.703125\n0.55859375\n0.63671875\n0.640625\n0.69140625\n0.6328125\n0.671875\n0.67578125\n0.6640625\n0.62890625\n0.6171875\n0.52734375\n0.59375\n0.6640625\n0.80078125\n0.53125\n0.7265625\n0.72265625\n0.578125\n0.69921875\n0.64453125\n0.65234375\n0.6171875\n0.671875\n0.73828125\n0.6328125\n0.6484375\n0.67578125\n0.6640625\n0.5625\n0.609375\n0.6875\n0.703125\n0.6953125\n0.74609375\n0.6640625\n0.58984375\n0.69921875\n0.56640625\n0.63671875\n0.515625\n0.61328125\n0.6015625\n0.68359375\n0.6640625\n0.671875\n0.71484375\nPalmyra49:SM_22cbce_3\nSimilarity: 0.0 File 1: Palmyra49 File 2: SM_22cbce_3\nassyria9th_1:greek2nd_4\nSimilarity: 0.0 File 1: assyria9th_1 File 2: greek2nd_4\nachaemenid4:cyprus_6th_c_21\nSimilarity: 0.0 File 1: achaemenid4 File 2: cyprus_6th_c_21\negypt13c_3:phoenician_5_2\nSimilarity: 0.0 File 1: egypt13c_3 File 2: phoenician_5_2\nPalmyra47:phonecian_5_3c_5\nSimilarity: 0.0 File 1: Palmyra47 File 2: phonecian_5_3c_5\negypt_12d_9:gandhara6\nSimilarity: 0.0 File 1: egypt_12d_9 File 2: gandhara6\ncyprus_3rd_8:cyprus_4th_c_4\nSimilarity: 0.0 File 1: cyprus_3rd_8 File 2: cyprus_4th_c_4\ncyprus_roman_15:egypt_18_34\nSimilarity: 0.0 File 1: cyprus_roman_15 File 2: egypt_18_34\ncypriot_6th_7:phonecian_5_3c_5\nSimilarity: 0.0 File 1: cypriot_6th_7 File 2: phonecian_5_3c_5\ngreece_27_2200BCE6:phoenician_5_3\nSimilarity: 0.0 File 1: greece_27_2200BCE6 File 2: phoenician_5_3\ncyprus_6th_c_21:cyprus_roman_15\nSimilarity: 0.0 File 1: cyprus_6th_c_21 File 2: cyprus_roman_15\ncyprus_2nd_13:cyprus_3_77\nSimilarity: 0.0 File 1: cyprus_2nd_13 File 2: cyprus_3_77\nphoenician_5_4_1:sm_22_9\nSimilarity: 0.0 File 1: phoenician_5_4_1 File 2: sm_22_9\ngandhara1:gandhara5\nSimilarity: 0.0 File 1: gandhara1 File 2: gandhara5\ncypro_7th_centuryBC1:egypt_18d_44\nSimilarity: 0.0 File 1: cypro_7th_centuryBC1 File 2: egypt_18d_44\nanatolia_1c_3:cyprus_2nd_13\nSimilarity: 0.0 File 1: anatolia_1c_3 File 2: cyprus_2nd_13\ngreek4_7:ramsesII\nSimilarity: 0.0 File 1: greek4_7 File 2: ramsesII\nPalmyra39_male:phoenician_5_2\nSimilarity: 0.0 File 1: Palmyra39_male File 2: phoenician_5_2\ncyprus_4th_2:gandhara11\nSimilarity: 0.0 File 1: cyprus_4th_2 File 2: gandhara11\negypt_6thC_14:greek4th_1\nSimilarity: 0.0 File 1: egypt_6thC_14 File 2: greek4th_1\ngandhara11:greek4th_2\nSimilarity: 0.0 File 1: gandhara11 File 2: greek4th_2\ncyprus_4th_c_4:ptolemaic_2\nSimilarity: 0.0 File 1: cyprus_4th_c_4 File 2: ptolemaic_2\negypt_7c_12:gandhara1\nSimilarity: 0.0 File 1: egypt_7c_12 File 2: gandhara1\nPalmyra39_male:egypt_3rdcentury_BC_67\nSimilarity: 0.0 File 1: Palmyra39_male File 2: egypt_3rdcentury_BC_67\ncanaanite_1:egypt_7c_12\nSimilarity: 0.0 File 1: canaanite_1 File 2: egypt_7c_12\ngreek1st_4:greek5_11\nSimilarity: 0.0 File 1: greek1st_4 File 2: greek5_11\ncyprus_4th_c_4:phoenician_5_4_1\nSimilarity: 0.0 File 1: cyprus_4th_c_4 File 2: phoenician_5_4_1\ncyprus_4th_c_4:egypt_5th_dynasty1\nSimilarity: 0.0 File 1: cyprus_4th_c_4 File 2: egypt_5th_dynasty1\ngandhara12:gandhara13\nSimilarity: 0.0 File 1: gandhara12 File 2: gandhara13\ncyprus_2nd_13:egypt_22_3\nSimilarity: 0.0 File 1: cyprus_2nd_13 File 2: egypt_22_3\nassyrian4:urartu_8_7_2\nSimilarity: 0.0 File 1: assyrian4 File 2: urartu_8_7_2\negypt_3rdcentury_BC_67:phoenician_5_4_1\nSimilarity: 0.0 File 1: egypt_3rdcentury_BC_67 File 2: phoenician_5_4_1\negypt_12d_9:greek5th_6\nSimilarity: 0.0 File 1: egypt_12d_9 File 2: greek5th_6\ngreek2nd_4:greek4th_1\nSimilarity: 0.0 File 1: greek2nd_4 File 2: greek4th_1\negypt_18th_1:ramsesII\nSimilarity: 0.0 File 1: egypt_18th_1 File 2: ramsesII\nPalmyra39_male:egypt_7c_12\nSimilarity: 0.0 File 1: Palmyra39_male File 2: egypt_7c_12\nPalmyra30:gandhara1\nSimilarity: 0.0 File 1: Palmyra30 File 2: gandhara1\nassyria8c_1:egypt_3rd_10\nSimilarity: 0.0 File 1: assyria8c_1 File 2: egypt_3rd_10\nPalmyra39_male:ptolemaic_2\nSimilarity: 0.0 File 1: Palmyra39_male File 2: ptolemaic_2\nPalmyra49:egypt5d_31\nSimilarity: 0.0 File 1: Palmyra49 File 2: egypt5d_31\ncleobis_1:phoenician_5_4_1\nSimilarity: 0.0 File 1: cleobis_1 File 2: phoenician_5_4_1\ncyprus_4th_2:greek4th_2\nSimilarity: 0.0 File 1: cyprus_4th_2 File 2: greek4th_2\nPalmyra46:egypt_9_8c_15\nSimilarity: 0.0 File 1: Palmyra46 File 2: egypt_9_8c_15\ncyprus_6-_44:greek2nd_5\nSimilarity: 0.0 File 1: cyprus_6-_44 File 2: greek2nd_5\nptolemaic_ruler2:susa2\nSimilarity: 0.0 File 1: ptolemaic_ruler2 File 2: susa2\ncypriot-5thcentury_3:levant_1400-1200BC_2\nSimilarity: 0.0 File 1: cypriot-5thcentury_3 File 2: levant_1400-1200BC_2\ncyprus_3_77:greek2nd_3\nSimilarity: 0.0 File 1: cyprus_3_77 File 2: greek2nd_3\nPalmyra47:achaemenid4\nSimilarity: 0.0 File 1: Palmyra47 File 2: achaemenid4\nPalmyra47:egypt_6thC_14\nSimilarity: 0.0 File 1: Palmyra47 File 2: egypt_6thC_14\negypt_18d_44:phoenician_5_2\nSimilarity: 0.0 File 1: egypt_18d_44 File 2: phoenician_5_2\negypt_6c_21:levant_14-12_3\nSimilarity: 0.0 File 1: egypt_6c_21 File 2: levant_14-12_3\ncanaanite_61.JPG:neo_assyrian5\nSimilarity: 0.0 File 1: canaanite_61.JPG File 2: neo_assyrian5\ncyprus_4th_c_4:levant_14-12_3\nSimilarity: 0.0 File 1: cyprus_4th_c_4 File 2: levant_14-12_3\nPalmyra25:susa2\nSimilarity: 0.0 File 1: Palmyra25 File 2: susa2\nPalmyra38:cypriot_6th_10\nSimilarity: 0.0 File 1: Palmyra38 File 2: cypriot_6th_10\nPalmyra46:greek3rc3\nSimilarity: 0.0 File 1: Palmyra46 File 2: greek3rc3\nphoenician_5_2:phoenician_5_4_1\nSimilarity: 0.0 File 1: phoenician_5_2 File 2: phoenician_5_4_1\negypt13c_3:greek4th_1\nSimilarity: 0.0 File 1: egypt13c_3 File 2: greek4th_1\nassyria7c11:egypt13c_3\nSimilarity: 0.0 File 1: assyria7c11 File 2: egypt13c_3\negypt13c_3:phoenician_5_4_1\nSimilarity: 0.0 File 1: egypt13c_3 File 2: phoenician_5_4_1\ncyprus_2_68:cyprus_3-1_2\nSimilarity: 0.0 File 1: cyprus_2_68 File 2: cyprus_3-1_2\ncleobis_2:greek4_5\nSimilarity: 0.0 File 1: cleobis_2 File 2: greek4_5\negypt_3rd_dynasty6:hittite_8-11\nSimilarity: 0.0 File 1: egypt_3rd_dynasty6 File 2: hittite_8-11\ncleobis_2:egypt_9_8c_15\nSimilarity: 0.0 File 1: cleobis_2 File 2: egypt_9_8c_15\nassyrian4:greek1st_4\nSimilarity: 0.0 File 1: assyrian4 File 2: greek1st_4\ncyprus_2nd_13:egypt3rd_9\nSimilarity: 0.0 File 1: cyprus_2nd_13 File 2: egypt3rd_9\ncyprus_4th_c_4:cyprus_roman_15\nSimilarity: 0.0 File 1: cyprus_4th_c_4 File 2: cyprus_roman_15\negypt_18_34:new_kingdom_egypt2\nSimilarity: 0.0 File 1: egypt_18_34 File 2: new_kingdom_egypt2\ngandhara6:greek5th_6\nSimilarity: 0.0 File 1: gandhara6 File 2: greek5th_6\nanatolia_1c_3:cyprus_3rd_8\nSimilarity: 0.0 File 1: anatolia_1c_3 File 2: cyprus_3rd_8\ncyprus_2nd_13:greek4th_1\nSimilarity: 0.0 File 1: cyprus_2nd_13 File 2: greek4th_1\ncleobis_2:phoenician_5_4_1\nSimilarity: 0.0 File 1: cleobis_2 File 2: phoenician_5_4_1\ncypriot_5th:cyprus_2nd_13\nSimilarity: 0.0 File 1: cypriot_5th File 2: cyprus_2nd_13\negypt_12thC_19:egypt_3rc_7\nSimilarity: 0.0 File 1: egypt_12thC_19 File 2: egypt_3rc_7\nebla11:greece_27_2200BCE5\nSimilarity: 0.0 File 1: ebla11 File 2: greece_27_2200BCE5\nanatolia_1c_11:egypt_1st_3\nSimilarity: 0.0 File 1: anatolia_1c_11 File 2: egypt_1st_3\ncleobis_2:greek3rc3\nSimilarity: 0.0 File 1: cleobis_2 File 2: greek3rc3\ngandhara11:greek4_5\nSimilarity: 0.0 File 1: gandhara11 File 2: greek4_5\ncleobis_2:gandhara11\nSimilarity: 0.0 File 1: cleobis_2 File 2: gandhara11\negypt_18d_61:egypt_9_8c_15\nSimilarity: 0.0 File 1: egypt_18d_61 File 2: egypt_9_8c_15\nPalmyra39_male:phoenician_5_4_1\nSimilarity: 0.0 File 1: Palmyra39_male File 2: phoenician_5_4_1\negypt_18d_61:egypt_7c_12\nSimilarity: 0.0 File 1: egypt_18d_61 File 2: egypt_7c_12\negypt_6thC_14:greek2nd_4\nSimilarity: 0.0 File 1: egypt_6thC_14 File 2: greek2nd_4\nanatolia_14_3:greek2nd_2\nSimilarity: 0.0 File 1: anatolia_14_3 File 2: greek2nd_2\ncyprus_4th_2:egypt_18d_44\nSimilarity: 0.0 File 1: cyprus_4th_2 File 2: egypt_18d_44\ncypriot_hellenistic_1:gandhara5\nSimilarity: 0.0 File 1: cypriot_hellenistic_1 File 2: gandhara5\nPalmyra49:cleobis_2\nSimilarity: 0.0 File 1: Palmyra49 File 2: cleobis_2\nneo_assyrian6:phoenician_5_3\nSimilarity: 0.0 File 1: neo_assyrian6 File 2: phoenician_5_3\ncyprus_roman_15:egypt_3rdcentury_BC_67\nSimilarity: 0.0 File 1: cyprus_roman_15 File 2: egypt_3rdcentury_BC_67\ncyprus_4th_2:phoenician_5_2\nSimilarity: 0.0 File 1: cyprus_4th_2 File 2: phoenician_5_2\nPalmyra39_male:achaemenid6\nSimilarity: 0.0 File 1: Palmyra39_male File 2: achaemenid6\nPalmyra46:cleobis_1\nSimilarity: 0.0 File 1: Palmyra46 File 2: cleobis_1\negypt_7c_12:indus2\nSimilarity: 0.0 File 1: egypt_7c_12 File 2: indus2\ndiayla_9:idlion_6th_15\nSimilarity: 0.0 File 1: diayla_9 File 2: idlion_6th_15\ngreek2nd_4:sm_22_7\nSimilarity: 0.0 File 1: greek2nd_4 File 2: sm_22_7\nlevant_5c_43:new_kingdom_egypt2\nSimilarity: 0.0 File 1: levant_5c_43 File 2: new_kingdom_egypt2\nPalmyra47:egypt_12dynasty_7\nSimilarity: 0.0 File 1: Palmyra47 File 2: egypt_12dynasty_7\ncypro_7th_centuryBC1:egypt_3rc_7\nSimilarity: 0.0 File 1: cypro_7th_centuryBC1 File 2: egypt_3rc_7\negypt_18th_1:egypt_6c_21\nSimilarity: 0.0 File 1: egypt_18th_1 File 2: egypt_6c_21\nPalmyra39_male:cyprus_4th_c_4\nSimilarity: 0.0 File 1: Palmyra39_male File 2: cyprus_4th_c_4\negypt_18th_dynasty7_1:egypt_6c_12\nSimilarity: 0.0 File 1: egypt_18th_dynasty7_1 File 2: egypt_6c_12\ncyprus_roman_15:ptolemaic_2\nSimilarity: 0.0 File 1: cyprus_roman_15 File 2: ptolemaic_2\ncyprus_4th_2:egypt_19_5\nSimilarity: 0.0 File 1: cyprus_4th_2 File 2: egypt_19_5\ncyprus_3rd_8:greek5th_6\nSimilarity: 0.0 File 1: cyprus_3rd_8 File 2: greek5th_6\negypt_19th_dynasty_2:indus3\nSimilarity: 0.0 File 1: egypt_19th_dynasty_2 File 2: indus3\ncleobis_2:egypt5d_31\nSimilarity: 0.0 File 1: cleobis_2 File 2: egypt5d_31\ncyprus_roman_15:phoenician_5_4_1\nSimilarity: 0.0 File 1: cyprus_roman_15 File 2: phoenician_5_4_1\ncyprus_2nd_4:greek4th_6\nSimilarity: 0.0 File 1: cyprus_2nd_4 File 2: greek4th_6\ncyprus_4th_c_4:egypt_3rdcentury_BC_67\nSimilarity: 0.0 File 1: cyprus_4th_c_4 File 2: egypt_3rdcentury_BC_67\nPalmyra39_male:cypriot_hellenistic_1\nSimilarity: 0.0 File 1: Palmyra39_male File 2: cypriot_hellenistic_1\ncyprus_3_77:greek4th_1\nSimilarity: 0.0 File 1: cyprus_3_77 File 2: greek4th_1\ndiayla_9:egypt_4thC_14\nSimilarity: 0.0 File 1: diayla_9 File 2: egypt_4thC_14\negypt_9_8c_15:phonecian_5_3c_5\nSimilarity: 0.0 File 1: egypt_9_8c_15 File 2: phonecian_5_3c_5\negypt5d_31:egypt_18th_1\nSimilarity: 0.0 File 1: egypt5d_31 File 2: egypt_18th_1\negypt_9_8c_15:gandhara1\nSimilarity: 0.0 File 1: egypt_9_8c_15 File 2: gandhara1\nPalmyra39_male:gandhara1\nSimilarity: 0.0 File 1: Palmyra39_male File 2: gandhara1\nPalmyra47:assyria9thc3\nSimilarity: 0.0 File 1: Palmyra47 File 2: assyria9thc3\ngreece_27_2200BCE6:greek6_1\nSimilarity: 0.0 File 1: greece_27_2200BCE6 File 2: greek6_1\negypt_3rdcentury_BC_67:ptolemaic_2\nSimilarity: 0.0 File 1: egypt_3rdcentury_BC_67 File 2: ptolemaic_2\nPalmyra39_male:cyprus_roman_15\nSimilarity: 0.0 File 1: Palmyra39_male File 2: cyprus_roman_15\nanatolia_1c_3:greek4-14\nSimilarity: 0.0 File 1: anatolia_1c_3 File 2: greek4-14\nptolemaic_2:sm_22_9\nSimilarity: 0.0 File 1: ptolemaic_2 File 2: sm_22_9\ncypriot_5th_3.JPG:greece_27_2200BCE7\nSimilarity: 0.0 File 1: cypriot_5th_3.JPG File 2: greece_27_2200BCE7\negypt_6c_15:greek4_5\nSimilarity: 0.0 File 1: egypt_6c_15 File 2: greek4_5\ncanaanite_61.JPG:egypt_7c_31\nSimilarity: 0.0 File 1: canaanite_61.JPG File 2: egypt_7c_31\nPalmyra39_male:egypt13c_3\nSimilarity: 0.0 File 1: Palmyra39_male File 2: egypt13c_3\ncleobis_1:egypt_9_8c_15\nSimilarity: 0.0 File 1: cleobis_1 File 2: egypt_9_8c_15\nphoenician_5_4_1:ptolemaic_2\nSimilarity: 0.0 File 1: phoenician_5_4_1 File 2: ptolemaic_2\nebla11:phoenician_4_2\nSimilarity: 0.0 File 1: ebla11 File 2: phoenician_4_2\n"
     ]
    }
   ],
   "source": [
    "%run src/lsh/detect.py"
   ]
  },
  {
   "source": [
    "## Walkthrough or step-by-step demonstration\n",
    "### Import modules"
   ],
   "cell_type": "markdown",
   "metadata": {}
  },
  {
   "cell_type": "code",
   "execution_count": 4,
   "metadata": {},
   "outputs": [],
   "source": [
    "import argparse\n",
    "import sys\n",
    "import os\n",
    "from os import listdir\n",
    "from os.path import isfile, join\n",
    "from typing import Dict, List, Optional, Tuple\n",
    "import time\n",
    "\n",
    "import imagehash\n",
    "import numpy as np\n",
    "from PIL import Image\n",
    "import csv\n",
    "from src.lsh.imageFileDataLoader import ImageFile"
   ]
  },
  {
   "cell_type": "code",
   "execution_count": null,
   "metadata": {},
   "outputs": [],
   "source": [
    "import matplotlib.pyplot as plt"
   ]
  },
  {
   "source": [
    "### Define and set global parameters"
   ],
   "cell_type": "markdown",
   "metadata": {}
  },
  {
   "cell_type": "code",
   "execution_count": 43,
   "metadata": {},
   "outputs": [],
   "source": [
    "# similarity threshold\n",
    "threshold = 0.5\n",
    "# hash size to use, signature length = hash_size^2\n",
    "hashSize = 16\n",
    "# number of bands\n",
    "bands = 16"
   ]
  },
  {
   "source": [
    "NOTE: the default threshold value of 0.9 seems to high to identify any pairs of \"near_duplicates\""
   ],
   "cell_type": "markdown",
   "metadata": {}
  },
  {
   "source": [
    "### Define and demonstrate `calculate_signature()`"
   ],
   "cell_type": "markdown",
   "metadata": {}
  },
  {
   "cell_type": "code",
   "execution_count": 5,
   "metadata": {},
   "outputs": [],
   "source": [
    "\"\"\"\n",
    "    Calculate the dhash signature of a given file using dhash technique.\n",
    "    \n",
    "    \n",
    "    @param image_file: the image (path as string) to calculate the signature for\n",
    "    @param hash_size: hash size to use, signatures will be of length hash_size^2\n",
    "    \n",
    "    @return :Image signature as Numpy n-dimensional array or None if the file is not a PIL recognized image\n",
    "\"\"\"\n",
    "def calculate_signature(image_file: str, hash_size: int) -> np.ndarray:\n",
    "   \n",
    "    try:\n",
    "        pil_image = Image.open(image_file).convert(\"L\").resize(\n",
    "                            (hash_size+1, hash_size), \n",
    "                            Image.ANTIALIAS)\n",
    "        dhash = imagehash.dhash(pil_image, hash_size)\n",
    "        signature = dhash.hash.flatten()\n",
    "        pil_image.close()\n",
    "        return signature\n",
    "    except IOError as e:\n",
    "        raise e"
   ]
  },
  {
   "source": [
    "Run it with \"achaemenid_1.jpg\":"
   ],
   "cell_type": "markdown",
   "metadata": {}
  },
  {
   "cell_type": "code",
   "execution_count": 20,
   "metadata": {},
   "outputs": [],
   "source": [
    "imageSignature = calculate_signature(\"input/achaemenid_1.jpg\", 16)"
   ]
  },
  {
   "source": [
    "We can visualise the signature of an image in two ways:\n",
    "\n",
    "- terminal output (Boolean array)"
   ],
   "cell_type": "markdown",
   "metadata": {}
  },
  {
   "cell_type": "code",
   "execution_count": 21,
   "metadata": {},
   "outputs": [
    {
     "output_type": "execute_result",
     "data": {
      "text/plain": [
       "array([ True, False, False, False, False,  True,  True, False, False,\n",
       "       False,  True, False, False, False, False, False,  True, False,\n",
       "       False, False, False,  True,  True, False,  True, False, False,\n",
       "       False,  True,  True, False, False,  True,  True, False, False,\n",
       "       False,  True,  True,  True, False, False,  True,  True,  True,\n",
       "       False, False, False,  True, False, False, False,  True,  True,\n",
       "        True, False, False,  True, False,  True,  True, False, False,\n",
       "       False,  True, False, False, False,  True,  True,  True, False,\n",
       "       False, False,  True,  True,  True,  True, False, False,  True,\n",
       "        True, False, False,  True,  True,  True, False, False,  True,\n",
       "       False,  True,  True, False,  True, False,  True,  True, False,\n",
       "       False,  True, False, False, False, False,  True,  True,  True,\n",
       "        True, False,  True, False,  True,  True, False,  True, False,\n",
       "       False, False, False, False,  True,  True,  True, False,  True,\n",
       "        True, False,  True,  True, False,  True, False, False, False,\n",
       "       False, False, False,  True,  True, False, False,  True, False,\n",
       "        True,  True,  True, False, False, False, False, False, False,\n",
       "       False,  True,  True, False, False, False, False,  True,  True,\n",
       "       False, False,  True,  True, False, False, False, False,  True,\n",
       "        True,  True,  True,  True, False,  True,  True, False, False,\n",
       "        True, False, False, False, False, False,  True, False, False,\n",
       "       False, False, False,  True,  True, False,  True, False, False,\n",
       "       False, False, False, False, False, False, False, False, False,\n",
       "       False,  True,  True, False, False, False, False, False, False,\n",
       "       False, False, False, False, False, False, False, False,  True,\n",
       "        True,  True, False, False, False, False, False, False, False,\n",
       "       False, False, False,  True, False, False,  True,  True,  True,\n",
       "       False, False, False,  True, False, False, False, False, False,\n",
       "       False, False, False, False])"
      ]
     },
     "metadata": {},
     "execution_count": 21
    }
   ],
   "source": [
    "imageSignature"
   ]
  },
  {
   "source": [
    "- Barcode plot"
   ],
   "cell_type": "markdown",
   "metadata": {}
  },
  {
   "cell_type": "code",
   "execution_count": 38,
   "metadata": {},
   "outputs": [
    {
     "output_type": "display_data",
     "data": {
      "text/plain": "<Figure size 432x288 with 1 Axes>",
      "image/svg+xml": "<?xml version=\"1.0\" encoding=\"utf-8\" standalone=\"no\"?>\r\n<!DOCTYPE svg PUBLIC \"-//W3C//DTD SVG 1.1//EN\"\r\n  \"http://www.w3.org/Graphics/SVG/1.1/DTD/svg11.dtd\">\r\n<!-- Created with matplotlib (https://matplotlib.org/) -->\r\n<svg height=\"72pt\" version=\"1.1\" viewBox=\"0 0 360 72\" width=\"360pt\" xmlns=\"http://www.w3.org/2000/svg\" xmlns:xlink=\"http://www.w3.org/1999/xlink\">\r\n <defs>\r\n  <style type=\"text/css\">\r\n*{stroke-linecap:butt;stroke-linejoin:round;}\r\n  </style>\r\n </defs>\r\n <g id=\"figure_1\">\r\n  <g id=\"patch_1\">\r\n   <path d=\"M 0 72 \r\nL 360 72 \r\nL 360 0 \r\nL 0 0 \r\nz\r\n\" style=\"fill:none;\"/>\r\n  </g>\r\n  <g id=\"axes_1\">\r\n   <g clip-path=\"url(#p4192507db2)\">\r\n    <image height=\"58\" id=\"image6c6ab1ef5b\" transform=\"scale(1 -1)translate(0 -58)\" width=\"346\" x=\"7.2\" xlink:href=\"data:image/png;base64,\r\niVBORw0KGgoAAAANSUhEUgAAAVoAAAA6CAYAAADx0pGYAAAABHNCSVQICAgIfAhkiAAAAWFJREFUeJzt1MFOhTAUQEHw//8ZF4bEkLbA07ObWVq4tPA8+7Ztx3Ec28i+79v2c8FwbXbfav2cec6dPeN63exvo+uv66u12V7v5l33NLv/zdzR+uosT874ex+jd786x933n+3znPv0W6/mruaMzrEyO+Po93W3z9F+n/zeV3uZ3Xc1egdvZj555vVb/sXdO/qPuZ/Ovr6Tp/+fb5/19XpnALwitAAxoQWICS1ATGgBYkILEBNagJjQAsSEFiAmtAAxoQWICS1ATGgBYkILEBNagJjQAsSEFiAmtAAxoQWICS1ATGgBYkILEBNagJjQAsSEFiAmtAAxoQWICS1ATGgBYkILEBNagJjQAsSEFiAmtAAxoQWICS1ATGgBYkILEBNagJjQAsSEFiAmtAAxoQWICS1ATGgBYkILEBNagJjQAsSEFiAmtAAxoQWICS1ATGgBYkILEBNagJjQAsSEFiD2DRPdlHCY570dAAAAAElFTkSuQmCC\" y=\"-6.8\"/>\r\n   </g>\r\n  </g>\r\n </g>\r\n <defs>\r\n  <clipPath id=\"p4192507db2\">\r\n   <rect height=\"57.6\" width=\"345.6\" x=\"7.2\" y=\"7.2\"/>\r\n  </clipPath>\r\n </defs>\r\n</svg>\r\n",
      "image/png": "[encoded data removed]"
     },
     "metadata": {
      "needs_background": "light"
     }
    }
   ],
   "source": [
    "barprops = dict(aspect='auto', cmap='binary', interpolation='nearest')\n",
    "\n",
    "fig = plt.figure()\n",
    "\n",
    "ax2 = fig.add_axes([0.3, 0.4, 0.8, 0.2])\n",
    "ax2.set_axis_off()\n",
    "ax2.imshow(imageSignature.reshape((1, -1)), **barprops)\n",
    "\n",
    "plt.show()\n"
   ]
  },
  {
   "source": [
    "Visually compare it with \"achaemenid2.jpg\" signature"
   ],
   "cell_type": "markdown",
   "metadata": {}
  },
  {
   "cell_type": "code",
   "execution_count": 39,
   "metadata": {},
   "outputs": [
    {
     "output_type": "display_data",
     "data": {
      "text/plain": "<Figure size 432x288 with 1 Axes>",
      "image/svg+xml": "<?xml version=\"1.0\" encoding=\"utf-8\" standalone=\"no\"?>\r\n<!DOCTYPE svg PUBLIC \"-//W3C//DTD SVG 1.1//EN\"\r\n  \"http://www.w3.org/Graphics/SVG/1.1/DTD/svg11.dtd\">\r\n<!-- Created with matplotlib (https://matplotlib.org/) -->\r\n<svg height=\"72pt\" version=\"1.1\" viewBox=\"0 0 360 72\" width=\"360pt\" xmlns=\"http://www.w3.org/2000/svg\" xmlns:xlink=\"http://www.w3.org/1999/xlink\">\r\n <defs>\r\n  <style type=\"text/css\">\r\n*{stroke-linecap:butt;stroke-linejoin:round;}\r\n  </style>\r\n </defs>\r\n <g id=\"figure_1\">\r\n  <g id=\"patch_1\">\r\n   <path d=\"M 0 72 \r\nL 360 72 \r\nL 360 0 \r\nL 0 0 \r\nz\r\n\" style=\"fill:none;\"/>\r\n  </g>\r\n  <g id=\"axes_1\">\r\n   <g clip-path=\"url(#p7f0658caa5)\">\r\n    <image height=\"58\" id=\"image15b93d82bf\" transform=\"scale(1 -1)translate(0 -58)\" width=\"346\" x=\"7.2\" xlink:href=\"data:image/png;base64,\r\niVBORw0KGgoAAAANSUhEUgAAAVoAAAA6CAYAAADx0pGYAAAABHNCSVQICAgIfAhkiAAAAWFJREFUeJzt1MFOhTAUQEHw//8ZF4bEkLbA07ObWVq4tPA8+7Ztx3Ec28i+79v2c8FwbXbfav2cec6dPeN63exvo+uv66u12V7v5l33NLv/zdzR+uosT874ex+jd786x933n+3znPv0W6/mruaMzrEyO+Po93W3z9F+n/zeV3uZ3Xc1egdvZj555vVb/sXdO/qPuZ/Ovr6Tp/+fb5/19XpnALwitAAxoQWICS1ATGgBYkILEBNagJjQAsSEFiAmtAAxoQWICS1ATGgBYkILEBNagJjQAsSEFiAmtAAxoQWICS1ATGgBYkILEBNagJjQAsSEFiAmtAAxoQWICS1ATGgBYkILEBNagJjQAsSEFiAmtAAxoQWICS1ATGgBYkILEBNagJjQAsSEFiAmtAAxoQWICS1ATGgBYkILEBNagJjQAsSEFiAmtAAxoQWICS1ATGgBYkILEBNagJjQAsSEFiD2DRPdlHCY570dAAAAAElFTkSuQmCC\" y=\"-6.8\"/>\r\n   </g>\r\n  </g>\r\n </g>\r\n <defs>\r\n  <clipPath id=\"p7f0658caa5\">\r\n   <rect height=\"57.6\" width=\"345.6\" x=\"7.2\" y=\"7.2\"/>\r\n  </clipPath>\r\n </defs>\r\n</svg>\r\n",
      "image/png": "[encoded data removed]"
     },
     "metadata": {
      "needs_background": "light"
     }
    },
    {
     "output_type": "display_data",
     "data": {
      "text/plain": "<Figure size 432x288 with 1 Axes>",
      "image/svg+xml": "<?xml version=\"1.0\" encoding=\"utf-8\" standalone=\"no\"?>\r\n<!DOCTYPE svg PUBLIC \"-//W3C//DTD SVG 1.1//EN\"\r\n  \"http://www.w3.org/Graphics/SVG/1.1/DTD/svg11.dtd\">\r\n<!-- Created with matplotlib (https://matplotlib.org/) -->\r\n<svg height=\"72pt\" version=\"1.1\" viewBox=\"0 0 360 72\" width=\"360pt\" xmlns=\"http://www.w3.org/2000/svg\" xmlns:xlink=\"http://www.w3.org/1999/xlink\">\r\n <defs>\r\n  <style type=\"text/css\">\r\n*{stroke-linecap:butt;stroke-linejoin:round;}\r\n  </style>\r\n </defs>\r\n <g id=\"figure_1\">\r\n  <g id=\"patch_1\">\r\n   <path d=\"M 0 72 \r\nL 360 72 \r\nL 360 0 \r\nL 0 0 \r\nz\r\n\" style=\"fill:none;\"/>\r\n  </g>\r\n  <g id=\"axes_1\">\r\n   <g clip-path=\"url(#p62f8f94a07)\">\r\n    <image height=\"58\" id=\"image361c6d38d6\" transform=\"scale(1 -1)translate(0 -58)\" width=\"346\" x=\"7.2\" xlink:href=\"data:image/png;base64,\r\niVBORw0KGgoAAAANSUhEUgAAAVoAAAA6CAYAAADx0pGYAAAABHNCSVQICAgIfAhkiAAAAWpJREFUeJzt1EFug0AQAEHI//+MT44I2l0gUt+qTliGYYxR79u2HdvJcfz5uO37vs1cz71edxzH7/Xn47ezRrus9px9N7vH6NrZ3qPfcfccVs7X3s198kzP+492H82bnX++bvUMnjzX0W6jPUaf72Y//U+ezh29A6tdV/e8nvfmGbyZOfvf3sye/d7rrOs9nry3o/O/x2/e2dW+o1mjHVZz796rldWuP4+nAPAvQgsQE1qAmNACxIQWICa0ADGhBYgJLUBMaAFiQgsQE1qAmNACxIQWICa0ADGhBYgJLUBMaAFiQgsQE1qAmNACxIQWICa0ADGhBYgJLUBMaAFiQgsQE1qAmNACxIQWICa0ADGhBYgJLUBMaAFiQgsQE1qAmNACxIQWICa0ADGhBYgJLUBMaAFiQgsQE1qAmNACxIQWICa0ADGhBYgJLUBMaAFiQgsQE1qAmNACxIQWICa0ADGhBYgJLUBMaAFiH8Gar3CZ+RBpAAAAAElFTkSuQmCC\" y=\"-6.8\"/>\r\n   </g>\r\n  </g>\r\n </g>\r\n <defs>\r\n  <clipPath id=\"p62f8f94a07\">\r\n   <rect height=\"57.6\" width=\"345.6\" x=\"7.2\" y=\"7.2\"/>\r\n  </clipPath>\r\n </defs>\r\n</svg>\r\n",
      "image/png": "[encoded data removed]"
     },
     "metadata": {
      "needs_background": "light"
     }
    }
   ],
   "source": [
    "anotherImageSignature = calculate_signature(\"input/achaemenid2.jpg\", 16)\n",
    "\n",
    "fig = plt.figure()\n",
    "\n",
    "ax2 = fig.add_axes([0.3, 0.4, 0.8, 0.2])\n",
    "ax2.set_axis_off()\n",
    "ax2.imshow(imageSignature.reshape((1, -1)), **barprops)\n",
    "\n",
    "fig = plt.figure()\n",
    "\n",
    "ax2 = fig.add_axes([0.3, 0.4, 0.8, 0.2])\n",
    "ax2.set_axis_off()\n",
    "ax2.imshow(anotherImageSignature.reshape((1, -1)), **barprops)\n",
    "\n",
    "plt.show()\n"
   ]
  },
  {
   "source": [
    "Use fragment of code from `find_near_duplicates()` (lines 114-118) to get a similarity score comparing \"achaemenid_1.jpg\" and \"achaemenid2.jpg\":"
   ],
   "cell_type": "markdown",
   "metadata": {}
  },
  {
   "cell_type": "code",
   "execution_count": 69,
   "metadata": {},
   "outputs": [
    {
     "output_type": "stream",
     "name": "stdout",
     "text": [
      "hashDifference = 105, Similarity score = 0.58984375\n"
     ]
    }
   ],
   "source": [
    "hashDifference = sum(\n",
    "    np.bitwise_xor(\n",
    "        np.unpackbits(np.packbits(imageSignature)), \n",
    "        np.unpackbits(np.packbits(anotherImageSignature))\n",
    "    )    \n",
    ")\n",
    "similarity = (hashSize**2 - hashDifference) / hashSize**2\n",
    "\n",
    "print(\"hashDifference = \" + str(hashDifference) + \", Similarity score = \" + str(similarity))"
   ]
  },
  {
   "source": [
    "In sake of testing, we can run comparisons between two identical signatures, which should return \"hashDifference = 0 and similarity = 1.0\":"
   ],
   "cell_type": "markdown",
   "metadata": {}
  },
  {
   "cell_type": "code",
   "execution_count": 71,
   "metadata": {},
   "outputs": [
    {
     "output_type": "stream",
     "name": "stdout",
     "text": [
      "hashDifference = 0, Similarity score = 1.0\n"
     ]
    }
   ],
   "source": [
    "hashDifference = sum(\n",
    "    np.bitwise_xor(\n",
    "        np.unpackbits(np.packbits(imageSignature)), \n",
    "        np.unpackbits(np.packbits(imageSignature)) # <- changed\n",
    "    )    \n",
    ")\n",
    "similarity = (hashSize**2 - hashDifference) / hashSize**2\n",
    "\n",
    "print(\"hashDifference = \" + str(hashDifference) + \", Similarity score = \" + str(similarity))"
   ]
  },
  {
   "source": [
    "### Define and demonstrate `find_near_duplicates()`"
   ],
   "cell_type": "markdown",
   "metadata": {}
  },
  {
   "cell_type": "code",
   "execution_count": null,
   "metadata": {},
   "outputs": [],
   "source": [
    "'''\n",
    "    Find near-duplicate images\n",
    "    \n",
    "    \n",
    "    @param: input_dir: Directory with images to check\n",
    "    @param: threshold: Images with a similarity ratio >= threshold will be considered near-duplicates\n",
    "    @param: hash_size: Hash size to use, signatures will be of length hash_size^2\n",
    "    @param bands: The number of bands to use in the locality sensitve hashing process\n",
    "        \n",
    "    @return: A list of near-duplicates found. Near duplicates are encoded as a triple: (filename_A, filename_B, similarity)\n",
    "'''  \n",
    "def find_near_duplicates(input_dir: str, threshold: float, hash_size: int, bands: int) -> List[Tuple[str, str, float]]:\n",
    "   \n",
    "    #int\n",
    "    rows  = int(hash_size**2/bands)\n",
    "    \n",
    "    signatures = dict()\n",
    "    \n",
    "    #:  List[Dict[str, List[str]]]\n",
    "    \n",
    "    hash_buckets_list = [dict() for _ in range(bands)]\n",
    "    \n",
    "    # Build a list of candidate files in given input_dir\n",
    "    try:\n",
    "        file_list = [join(input_dir, f) for f in listdir(input_dir) if isfile(join(input_dir, f))]\n",
    "    except OSError as e:\n",
    "        raise e\n",
    "    \n",
    "    # Iterate through all files in input directory\n",
    "    for fh in file_list:\n",
    "        try:\n",
    "            signature = calculate_signature(fh, hash_size)\n",
    "        except IOError:\n",
    "            # Not a PIL image, skip this file\n",
    "            continue\n",
    "\n",
    "        # Keep track of each image's signature\n",
    "        signatures[fh] = np.packbits(signature)\n",
    "        \n",
    "        # Locality Sensitive Hashing\n",
    "        for i in range(bands):\n",
    "            signature_band = signature[i*rows:(i+1)*rows]\n",
    "            signature_band_bytes = signature_band.tobytes()\n",
    "            if signature_band_bytes not in hash_buckets_list[i]:\n",
    "                hash_buckets_list[i][signature_band_bytes] = list()\n",
    "            hash_buckets_list[i][signature_band_bytes].append(fh)\n",
    "\n",
    "    # Build candidate pairs based on bucket membership\n",
    "    candidate_pairs = set()\n",
    "    for hash_buckets in hash_buckets_list:\n",
    "        for hash_bucket in hash_buckets.values():\n",
    "            if len(hash_bucket) > 1:\n",
    "                hash_bucket = sorted(hash_bucket)\n",
    "                for i in range(len(hash_bucket)):\n",
    "                    for j in range(i+1, len(hash_bucket)):\n",
    "                        candidate_pairs.add(\n",
    "                            tuple([hash_bucket[i],hash_bucket[j]])\n",
    "                        )\n",
    "\n",
    "    # Check candidate pairs for similarity\n",
    "    near_duplicates = list()\n",
    "    for cpa, cpb in candidate_pairs:\n",
    "        hd = sum(np.bitwise_xor(\n",
    "                np.unpackbits(signatures[cpa]), \n",
    "                np.unpackbits(signatures[cpb])\n",
    "        ))\n",
    "        similarity = (hash_size**2 - hd) / hash_size**2\n",
    "       \n",
    "        if similarity > threshold:\n",
    "            near_duplicates.append((cpa, cpb, similarity))\n",
    "        else:\n",
    "            print(similarity)\n",
    "            near_duplicates.append((cpa, cpb, 0.0))\n",
    "            \n",
    "    # Sort near-duplicates by descending similarity and return\n",
    "    near_duplicates.sort(key=lambda x:x[2], reverse=True)\n",
    "    return near_duplicates\n"
   ]
  },
  {
   "cell_type": "code",
   "execution_count": 49,
   "metadata": {},
   "outputs": [
    {
     "output_type": "stream",
     "name": "stdout",
     "text": [
      "0.4609375\n"
     ]
    }
   ],
   "source": [
    "listOfNearDuplicates = find_near_duplicates(\"input\", threshold=threshold, hash_size=hashSize, bands=bands)\n",
    "# it will print out any similarity values that are < threshold"
   ]
  },
  {
   "source": [
    "Print the result as a table:"
   ],
   "cell_type": "code",
   "metadata": {},
   "execution_count": null,
   "outputs": []
  },
  {
   "cell_type": "code",
   "execution_count": 62,
   "metadata": {},
   "outputs": [
    {
     "output_type": "stream",
     "name": "stdout",
     "text": [
      "image #1                          image #2                          Similarity score\n--------------------------------------------------------------------------------\ninput\\cyprus_3rd_8.jpg            input\\cyprus_4th_c_4.jpg          0.8359375   \ninput\\Palmyra47.jpg               input\\egypt_12dynasty_7.jpg       0.80078125  \ninput\\Palmyra47.jpg               input\\assyria9thc3.jpg            0.74609375  \ninput\\cyprus_4th_c_4.jpg          input\\cyprus_roman_15.jpg         0.7421875   \ninput\\cyprus_roman_15.jpg         input\\phoenician_5_4_1.jpg        0.73828125  \ninput\\egypt_18th_1.jpg            input\\egypt_6c_21.jpg             0.7265625   \ninput\\egypt_18d_44.jpg            input\\phoenician_5_2.jpg          0.7265625   \ninput\\Palmyra39_male.jpg          input\\cyprus_4th_c_4.jpg          0.72265625  \ninput\\Palmyra30.jpg               input\\gandhara1.jpg               0.71484375  \ninput\\ebla11.jpg                  input\\phoenician_4_2.jpg          0.71484375  \ninput\\egypt_18d_61.jpg            input\\egypt_9_8c_15.jpg           0.71484375  \ninput\\cleobis_2.jpg               input\\gandhara11.jpg              0.70703125  \ninput\\Palmyra25.jpg               input\\susa2.jpg                   0.70703125  \ninput\\Palmyra39_male.jpg          input\\egypt_3rdcentury_BC_67.jpg  0.70703125  \ninput\\egypt_6thC_14.jpg           input\\greek2nd_4.jpg              0.703125    \ninput\\Palmyra39_male.jpg          input\\phoenician_5_4_1.jpg        0.703125    \ninput\\egypt_9_8c_15.jpg           input\\gandhara1.jpg               0.703125    \ninput\\cyprus_roman_15.jpg         input\\ptolemaic_2.jpg             0.69921875  \ninput\\Palmyra39_male.jpg          input\\cyprus_roman_15.jpg         0.69921875  \ninput\\egypt_18d_61.jpg            input\\egypt_7c_12.jpg             0.69921875  \ninput\\Palmyra39_male.jpg          input\\gandhara1.jpg               0.6953125   \ninput\\Palmyra47.jpg               input\\achaemenid4.jpg             0.6953125   \ninput\\Palmyra39_male.jpg          input\\ptolemaic_2.jpg             0.6953125   \ninput\\Palmyra46.jpg               input\\greek3rc3.jpg               0.69140625  \ninput\\Palmyra49.jpg               input\\cleobis_2.jpg               0.69140625  \ninput\\egypt5d_31.jpg              input\\egypt_18th_1.jpg            0.6875      \ninput\\phoenician_5_2.jpg          input\\phoenician_5_4_1.jpg        0.6875      \ninput\\cleobis_2.jpg               input\\egypt_9_8c_15.jpg           0.6875      \ninput\\egypt_12d_9.jpg             input\\gandhara6.jpg               0.68359375  \ninput\\Palmyra39_male.jpg          input\\egypt13c_3.jpg              0.68359375  \ninput\\gandhara11.jpg              input\\greek4_5.jpg                0.68359375  \ninput\\cyprus_2nd_13.jpg           input\\egypt_22_3.jpg              0.68359375  \ninput\\Palmyra39_male.jpg          input\\phoenician_5_2.jpg          0.6796875   \ninput\\greece_27_2200BCE6.jpg      input\\phoenician_5_3.jpg          0.6796875   \ninput\\cyprus_4th_2.jpeg           input\\phoenician_5_2.jpg          0.67578125  \ninput\\gandhara12.jpg              input\\gandhara13.jpg              0.67578125  \ninput\\Palmyra39_male.jpg          input\\cypriot_hellenistic_1.jpg   0.67578125  \ninput\\cleobis_2.jpg               input\\phoenician_5_4_1.jpg        0.671875    \ninput\\cleobis_2.jpg               input\\greek3rc3.jpg               0.671875    \ninput\\cyprus_roman_15.jpg         input\\egypt_3rdcentury_BC_67.jpg  0.671875    \ninput\\cleobis_1.jpg               input\\phoenician_5_4_1.jpg        0.671875    \ninput\\phoenician_5_4_1.jpg        input\\ptolemaic_2.jpg             0.671875    \ninput\\cleobis_2.jpg               input\\egypt5d_31.jpg              0.671875    \ninput\\Palmyra38.jpg               input\\cypriot_6th_10.jpg          0.66796875  \ninput\\cyprus_2nd_13.jpg           input\\cyprus_3_77.jpg             0.66796875  \ninput\\cleobis_1.jpg               input\\egypt_9_8c_15.jpg           0.6640625   \ninput\\levant_5c_43.jpg            input\\new_kingdom_egypt2.jpg      0.6640625   \ninput\\Palmyra39_male.jpg          input\\achaemenid6.jpg             0.6640625   \ninput\\cyprus_3_77.jpg             input\\greek4th_1.jpg              0.6640625   \ninput\\Palmyra47.jpg               input\\egypt_6thC_14.jpg           0.6640625   \ninput\\greece_27_2200BCE6.jpg      input\\greek6_1.jpg                0.6640625   \ninput\\Palmyra46.jpg               input\\egypt_9_8c_15.jpg           0.66015625  \ninput\\egypt13c_3.jpg              input\\phoenician_5_2.jpg          0.65234375  \ninput\\egypt13c_3.jpg              input\\phoenician_5_4_1.jpg        0.65234375  \ninput\\cyprus_4th_c_4.jpg          input\\levant_14-12_3.jpg          0.65234375  \ninput\\cypriot-5thcentury_3.jpg    input\\levant_1400-1200BC_2.jpg    0.65234375  \ninput\\assyria7c11.jpg             input\\egypt13c_3.jpg              0.65234375  \ninput\\cyprus_3rd_8.jpg            input\\greek5th_6.jpg              0.65234375  \ninput\\Palmyra49.jpg               input\\egypt5d_31.jpg              0.65234375  \ninput\\cyprus_4th_2.jpeg           input\\gandhara11.jpg              0.6484375   \ninput\\cyprus_4th_c_4.jpg          input\\egypt_3rdcentury_BC_67.jpg  0.6484375   \ninput\\Palmyra39_male.jpg          input\\egypt_7c_12.jpg             0.6484375   \ninput\\cyprus_4th_2.jpeg           input\\egypt_19_5.jpg              0.64453125  \ninput\\cyprus_4th_c_4.jpg          input\\phoenician_5_4_1.jpg        0.64453125  \ninput\\egypt_7c_12.jpg             input\\gandhara1.jpg               0.640625    \ninput\\cypriot_hellenistic_1.jpg   input\\gandhara5.jpg               0.640625    \ninput\\egypt_6c_21.jpg             input\\levant_14-12_3.jpg          0.640625    \ninput\\ptolemaic_2.jpg             input\\sm_22_9.jpg                 0.63671875  \ninput\\cyprus_4th_c_4.jpg          input\\ptolemaic_2.jpg             0.63671875  \ninput\\cyprus_2_68.jpg             input\\cyprus_3-1_2.jpg            0.63671875  \ninput\\gandhara6.jpg               input\\greek5th_6.jpg              0.63671875  \ninput\\egypt_3rdcentury_BC_67.jpg  input\\phoenician_5_4_1.jpg        0.63671875  \ninput\\cyprus_4th_2.jpeg           input\\egypt_18d_44.jpg            0.63671875  \ninput\\canaanite_61.JPG            input\\neo_assyrian5.jpg           0.63671875  \ninput\\cyprus_2nd_4.jpg            input\\greek4th_6.jpg              0.6328125   \ninput\\cleobis_2.jpg               input\\greek4_5.jpg                0.6328125   \ninput\\neo_assyrian6.jpg           input\\phoenician_5_3.jpg          0.6328125   \ninput\\egypt_18_34.jpg             input\\new_kingdom_egypt2.jpg      0.6328125   \ninput\\greek2nd_4.jpg              input\\greek4th_1.jpg              0.6328125   \ninput\\Palmyra46.jpg               input\\cleobis_1.jpg               0.62890625  \ninput\\egypt_12d_9.jpg             input\\greek5th_6.jpg              0.625       \ninput\\cyprus_roman_15.jpg         input\\egypt_18_34.jpg             0.625       \ninput\\cypriot_5th.jpg             input\\cyprus_2nd_13.jpg           0.625       \ninput\\cyprus_2nd_13.jpg           input\\egypt3rd_9.jpg              0.62109375  \ninput\\egypt_7c_12.jpg             input\\indus2.jpg                  0.6171875   \ninput\\anatolia_1c_3.jpg           input\\cyprus_2nd_13.jpg           0.6171875   \ninput\\egypt_19th_dynasty_2.jpg    input\\indus3.jpg                  0.6171875   \ninput\\egypt_6c_15.jpg             input\\greek4_5.jpg                0.61328125  \ninput\\egypt_9_8c_15.jpg           input\\phonecian_5_3c_5.jpg        0.609375    \ninput\\cyprus_6th_c_21.jpg         input\\cyprus_roman_15.jpg         0.609375    \ninput\\assyrian4.jpg               input\\urartu_8_7_2.jpg            0.609375    \ninput\\assyria8c_1.jpg             input\\egypt_3rd_10.jpg            0.6015625   \ninput\\canaanite_61.JPG            input\\egypt_7c_31.jpg             0.6015625   \ninput\\gandhara1.jpg               input\\gandhara5.jpg               0.59765625  \ninput\\phoenician_5_4_1.jpg        input\\sm_22_9.jpg                 0.59765625  \ninput\\greek2nd_4.jpg              input\\sm_22_7.jpg                 0.59375     \ninput\\Palmyra49.jpg               input\\SM_22cbce_3.jpg             0.59375     \ninput\\egypt_18th_1.jpg            input\\ramsesII.jpg                0.59375     \ninput\\assyrian4.jpg               input\\greek1st_4.jpg              0.58984375  \ninput\\cyprus_2nd_13.jpg           input\\greek4th_1.jpg              0.58984375  \ninput\\greek4_7.jpg                input\\ramsesII.jpg                0.58984375  \ninput\\egypt_3rdcentury_BC_67.jpg  input\\ptolemaic_2.jpg             0.58984375  \ninput\\anatolia_1c_3.jpg           input\\cyprus_3rd_8.jpg            0.58984375  \ninput\\achaemenid4.jpg             input\\cyprus_6th_c_21.jpg         0.5859375   \ninput\\egypt_6thC_14.jpg           input\\greek4th_1.jpg              0.5859375   \ninput\\egypt_12thC_19.jpg          input\\egypt_3rc_7.jpg             0.5859375   \ninput\\anatolia_1c_11.jpg          input\\egypt_1st_3.jpg             0.58203125  \ninput\\egypt_18th_dynasty7_1.jpg   input\\egypt_6c_12.jpg             0.578125    \ninput\\cypriot_6th_7.jpg           input\\phonecian_5_3c_5.jpg        0.578125    \ninput\\Palmyra47.jpg               input\\phonecian_5_3c_5.jpg        0.57421875  \ninput\\ptolemaic_ruler2.jpg        input\\susa2.jpg                   0.5703125   \ninput\\anatolia_1c_3.jpg           input\\greek4-14.jpg               0.56640625  \ninput\\egypt13c_3.jpg              input\\greek4th_1.jpg              0.5625      \ninput\\diayla_9.jpg                input\\egypt_4thC_14.jpg           0.5625      \ninput\\anatolia_14_3.jpg           input\\greek2nd_2.jpg              0.55859375  \ninput\\cypro_7th_centuryBC1.jpg    input\\egypt_18d_44.jpg            0.55859375  \ninput\\egypt_3rd_dynasty6.jpg      input\\hittite_8-11.jpg            0.55859375  \ninput\\cyprus_6-_44.jpg            input\\greek2nd_5.jpg              0.5546875   \ninput\\cyprus_3_77.jpg             input\\greek2nd_3.jpg              0.55078125  \ninput\\cyprus_4th_2.jpeg           input\\greek4th_2.jpg              0.55078125  \ninput\\canaanite_1.jpg             input\\egypt_7c_12.jpg             0.546875    \ninput\\gandhara11.jpg              input\\greek4th_2.jpg              0.54296875  \ninput\\greek1st_4.jpg              input\\greek5_11.jpg               0.53515625  \ninput\\cypro_7th_centuryBC1.jpg    input\\egypt_3rc_7.jpg             0.53125     \ninput\\ebla11.jpg                  input\\greece_27_2200BCE5.jpg      0.53125     \ninput\\diayla_9.jpg                input\\idlion_6th_15.jpg           0.52734375  \ninput\\cyprus_4th_c_4.jpg          input\\egypt_5th_dynasty1.jpg      0.51953125  \ninput\\cypriot_5th_3.JPG           input\\greece_27_2200BCE7.jpg      0.515625    \ninput\\assyria9th_1.jpg            input\\greek2nd_4.jpg              0.0         \n"
     ]
    }
   ],
   "source": [
    "element_in_tuple = 3\n",
    "max_length_column = []\n",
    "\n",
    "for i in range(element_in_tuple):\n",
    "    max_length_column.append(max(len(str(e[i]))+2 for e in listOfNearDuplicates))\n",
    "\n",
    "# header\n",
    "headerTitles = [\"image #1\", \"image #2\", \"Similarity score\"]\n",
    "for i in range(element_in_tuple):\n",
    "        print(headerTitles[i].ljust(max_length_column[i]), end='')\n",
    "print()\n",
    "# line\n",
    "print(\"-\" * sum(max_length_column))\n",
    "# body\n",
    "for e in listOfNearDuplicates:\n",
    "    for i in range(element_in_tuple):\n",
    "        print(str(e[i]).ljust(max_length_column[i]), end='')\n",
    "    print()"
   ]
  },
  {
   "cell_type": "code",
   "execution_count": null,
   "metadata": {},
   "outputs": [],
   "source": []
  }
 ]
}